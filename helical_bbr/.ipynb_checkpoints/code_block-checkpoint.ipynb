{
 "cells": [
  {
   "cell_type": "code",
   "execution_count": 23,
   "id": "c3dd75c8",
   "metadata": {
    "scrolled": true
   },
   "outputs": [
    {
     "name": "stdout",
     "output_type": "stream",
     "text": [
      "c\n",
      "1\n"
     ]
    }
   ],
   "source": [
    "sym=\"c1\"\n",
    "print(str(sym)[0])\n",
    "print(int(sym[1:]))"
   ]
  },
  {
   "cell_type": "code",
   "execution_count": 24,
   "id": "11d7e969",
   "metadata": {},
   "outputs": [
    {
     "name": "stdout",
     "output_type": "stream",
     "text": [
      "[0.0, 45.0, 90.0, 135.0, 180.0, 225.0, 270.0, 315.0]\n",
      "[0.0, 144.0, 288.0, 72.0, 216.0]\n"
     ]
    }
   ],
   "source": [
    "symmetry_type=\"C\"\n",
    "sym_num=8\n",
    "Cn=[]\n",
    "Dn=[]\n",
    "\n",
    "if(symmetry_type==\"C\"):\n",
    "\tfor i in range(0,sym_num):\n",
    "\t\tCn.append([])\n",
    "\t\tCn[i]=i*360./sym_num\n",
    "print(Cn)\n",
    "symmetry_type=\"D\"\n",
    "sym_num=5\n",
    "if(symmetry_type==\"D\"):\n",
    "\tfor i in range(0,sym_num):\n",
    "\t\tDn.append([])\n",
    "\t\tif (i>=sym_num/2):\n",
    "\t\t\tDn[i]=(i-sym_num/2)*360./(sym_num/2)\n",
    "\t\telse:\n",
    "\t\t\tDn[i]=i*360./(sym_num/2)\n",
    "print(Dn)"
   ]
  },
  {
   "cell_type": "markdown",
   "id": "fcae6806",
   "metadata": {},
   "source": [
    "### 避免对空行操作"
   ]
  },
  {
   "cell_type": "code",
   "execution_count": 25,
   "id": "d96a3d68",
   "metadata": {},
   "outputs": [
    {
     "name": "stdout",
     "output_type": "stream",
     "text": [
      "11 2\n",
      "12\n",
      "11\n",
      "11 2\n",
      "12\n",
      "11\n",
      "11 2\n",
      "12\n",
      "11\n"
     ]
    }
   ],
   "source": [
    "f=[\"11 2\",\"12\",\"\",\"11\"]\n",
    "for i in f:\n",
    "    if i.split():\n",
    "        print(i)\n",
    "\n",
    "for i in f:\n",
    "    if not i.split():\n",
    "        continue\n",
    "    print(i)\n",
    "\n",
    "for i in f:\n",
    "    if \"\" == i:\n",
    "        continue\n",
    "    print(i)"
   ]
  },
  {
   "cell_type": "code",
   "execution_count": null,
   "id": "a69dc1da",
   "metadata": {},
   "outputs": [],
   "source": []
  }
 ],
 "metadata": {
  "kernelspec": {
   "display_name": "Python 3 (ipykernel)",
   "language": "python",
   "name": "python3"
  },
  "language_info": {
   "codemirror_mode": {
    "name": "ipython",
    "version": 3
   },
   "file_extension": ".py",
   "mimetype": "text/x-python",
   "name": "python",
   "nbconvert_exporter": "python",
   "pygments_lexer": "ipython3",
   "version": "3.9.7"
  }
 },
 "nbformat": 4,
 "nbformat_minor": 5
}
